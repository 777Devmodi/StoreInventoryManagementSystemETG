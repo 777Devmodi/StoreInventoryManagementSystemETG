{
 "cells": [
  {
   "cell_type": "code",
   "execution_count": 1,
   "id": "ec1f808e",
   "metadata": {},
   "outputs": [],
   "source": [
    "record={ 10001:{\"productname\":\"kitkat\",\"quanity\":20,\"price\":10,\"expirydate\":\"6monthafter\",\"productof\":\"Nestle\"},10002:{\"productname\":\"perk\",\"quanity\":15,\"price\":10,\"expirydate\":\"6monthafter\",\"productof\":\"Cadbury\"},10003:{\"productname\":\"Dairymilk\",\"quanity\":50,\"price\":5,\"expirydate\":\"12monthafter\",\"productof\":\"Cadbury\"},10004:{\"productname\":\"Snickers\",\"quanity\":20,\"price\":25,\"expirydate\":\"4monthafter\",\"productof\":\"Hersheys\"},10005:{\"productname\":\"Layschilly\",\"quanity\":80,\"price\":20,\"expirydate\":\"6monthafter\",\"productof\":\"Lays\"},10006:{\"productname\":\"Sweet potato Wafers\",\"quanity\":50,\"price\":10,\"expirydate\":\"12monthafter\",\"productof\":\"Balaji\"},10007:{\"productname\":\"M&Ms\",\"quanity\":30,\"price\":20,\"expirydate\":\"6monthafter\",\"productof\":\"Hersheys\"},10008:{\"productname\":\"Kurkure\",\"quanity\":50,\"price\":5,\"expirydate\":\"12monthafter\",\"productof\":\"Kurkure\"},10009:{\"productname\":\"Chocospread\",\"quanity\":40,\"price\":80,\"expirydate\":\"12monthafter\",\"productof\":\"Pillsbury\"},10010:{\"productname\":\"Rumbles\",\"quanity\":30,\"price\":10,\"expirydate\":\"12monthafter\",\"productof\":\"Balaji\"},10011:{\"productname\":\"moongdal\",\"quanity\":20,\"price\":5,\"expirydate\":\"6monthafter\",\"productof\":\"Balaji\"},10012:{\"productname\":\"buttermilk\",\"quanity\":50,\"price\":15,\"expirydate\":\"24hoursafter\",\"productof\":\"Sumul\"},10013:{\"productname\":\"Curd\",\"quanity\":50,\"price\":20,\"expirydate\":\"2monthsafter\",\"productof\":\"Sumul\"},10014:{\"productname\":\"Pulse\",\"quanity\":150,\"price\":1,\"expirydate\":\"12monthafter\",\"productof\":\"mills\"},10015:{\"productname\":\"5star\",\"quanity\":50,\"price\":10,\"expirydate\":\"12monthafter\",\"productof\":\"Cadbury\"},10016:{\"productname\":\"Munch\",\"quanity\":25,\"price\":5,\"expirydate\":\"6monthafter\",\"productof\":\"Cadbury\"},10017:{\"productname\":\"Darkchoclate\",\"quanity\":20,\"price\":70,\"expirydate\":\"6monthafter\",\"productof\":\"Amul\"},10018:{\"productname\":\"chocochips\",\"quanity\":30,\"price\":45,\"expirydate\":\"8monthafter\",\"productof\":\"Havmor\"},10019:{\"productname\":\"pineapple cake\",\"quanity\":5,\"price\":150,\"expirydate\":\"6monthafter\",\"productof\":\"Creamcrust\"},10020:{\"productname\":\"Lassi\",\"quanity\":20,\"price\":15,\"expirydate\":\"5monthafter\",\"productof\":\"Amul\"},10021:{\"productname\":\"coconut milk\",\"quanity\":20,\"price\":10,\"expirydate\":\"9monthafter\",\"productof\":\"maheshCo.\"},10022:{\"productname\":\"RedBull\",\"quanity\":25,\"price\":60,\"expirydate\":\"12monthafter\",\"productof\":\"beveragesandco\"},10023:{\"productname\":\"sting\",\"quanity\":15,\"price\":45,\"expirydate\":\"8monthafter\",\"productof\":\"sting energy\"},10024:{\"productname\":\"soda\",\"quanity\":50,\"price\":10,\"expirydate\":\"12monthafter\",\"productof\":\"cocacola\"},10025:{\"productname\":\"sprite\",\"quanity\":50,\"price\":40,\"expirydate\":\"12monthafter\",\"productof\":\"cocacola\"},10026:{\"productname\":\"fanta\",\"quanity\":20,\"price\":40,\"expirydate\":\"12monthafter\",\"productof\":\"cocacola\"},10027:{\"productname\":\"Pepsi\",\"quanity\":10,\"price\":30,\"expirydate\":\"12monthafter\",\"productof\":\"PepsiandCo\"},10028:{\"productname\":\"Limca\",\"quanity\":20,\"price\":45,\"expirydate\":\"12monthafter\",\"productof\":\"cocacola\"},10029:{\"productname\":\"Thumbsup\",\"quanity\":30,\"price\":40,\"expirydate\":\"12monthafter\",\"productof\":\"cocacola\"},10030:{\"productname\":\"lemonade\",\"quanity\":20,\"price\":35,\"expirydate\":\"6monthafter\",\"productof\":\"minutemaid\"}}"
   ]
  },
  {
   "cell_type": "code",
   "execution_count": 2,
   "id": "e3b53f97",
   "metadata": {},
   "outputs": [
    {
     "data": {
      "text/plain": [
       "{10001: {'productname': 'kitkat',\n",
       "  'quanity': 20,\n",
       "  'price': 10,\n",
       "  'expirydate': '6monthafter',\n",
       "  'productof': 'Nestle'},\n",
       " 10002: {'productname': 'perk',\n",
       "  'quanity': 15,\n",
       "  'price': 10,\n",
       "  'expirydate': '6monthafter',\n",
       "  'productof': 'Cadbury'},\n",
       " 10003: {'productname': 'Dairymilk',\n",
       "  'quanity': 50,\n",
       "  'price': 5,\n",
       "  'expirydate': '12monthafter',\n",
       "  'productof': 'Cadbury'},\n",
       " 10004: {'productname': 'Snickers',\n",
       "  'quanity': 20,\n",
       "  'price': 25,\n",
       "  'expirydate': '4monthafter',\n",
       "  'productof': 'Hersheys'},\n",
       " 10005: {'productname': 'Layschilly',\n",
       "  'quanity': 80,\n",
       "  'price': 20,\n",
       "  'expirydate': '6monthafter',\n",
       "  'productof': 'Lays'},\n",
       " 10006: {'productname': 'Sweet potato Wafers',\n",
       "  'quanity': 50,\n",
       "  'price': 10,\n",
       "  'expirydate': '12monthafter',\n",
       "  'productof': 'Balaji'},\n",
       " 10007: {'productname': 'M&Ms',\n",
       "  'quanity': 30,\n",
       "  'price': 20,\n",
       "  'expirydate': '6monthafter',\n",
       "  'productof': 'Hersheys'},\n",
       " 10008: {'productname': 'Kurkure',\n",
       "  'quanity': 50,\n",
       "  'price': 5,\n",
       "  'expirydate': '12monthafter',\n",
       "  'productof': 'Kurkure'},\n",
       " 10009: {'productname': 'Chocospread',\n",
       "  'quanity': 40,\n",
       "  'price': 80,\n",
       "  'expirydate': '12monthafter',\n",
       "  'productof': 'Pillsbury'},\n",
       " 10010: {'productname': 'Rumbles',\n",
       "  'quanity': 30,\n",
       "  'price': 10,\n",
       "  'expirydate': '12monthafter',\n",
       "  'productof': 'Balaji'},\n",
       " 10011: {'productname': 'moongdal',\n",
       "  'quanity': 20,\n",
       "  'price': 5,\n",
       "  'expirydate': '6monthafter',\n",
       "  'productof': 'Balaji'},\n",
       " 10012: {'productname': 'buttermilk',\n",
       "  'quanity': 50,\n",
       "  'price': 15,\n",
       "  'expirydate': '24hoursafter',\n",
       "  'productof': 'Sumul'},\n",
       " 10013: {'productname': 'Curd',\n",
       "  'quanity': 50,\n",
       "  'price': 20,\n",
       "  'expirydate': '2monthsafter',\n",
       "  'productof': 'Sumul'},\n",
       " 10014: {'productname': 'Pulse',\n",
       "  'quanity': 150,\n",
       "  'price': 1,\n",
       "  'expirydate': '12monthafter',\n",
       "  'productof': 'mills'},\n",
       " 10015: {'productname': '5star',\n",
       "  'quanity': 50,\n",
       "  'price': 10,\n",
       "  'expirydate': '12monthafter',\n",
       "  'productof': 'Cadbury'},\n",
       " 10016: {'productname': 'Munch',\n",
       "  'quanity': 25,\n",
       "  'price': 5,\n",
       "  'expirydate': '6monthafter',\n",
       "  'productof': 'Cadbury'},\n",
       " 10017: {'productname': 'Darkchoclate',\n",
       "  'quanity': 20,\n",
       "  'price': 70,\n",
       "  'expirydate': '6monthafter',\n",
       "  'productof': 'Amul'},\n",
       " 10018: {'productname': 'chocochips',\n",
       "  'quanity': 30,\n",
       "  'price': 45,\n",
       "  'expirydate': '8monthafter',\n",
       "  'productof': 'Havmor'},\n",
       " 10019: {'productname': 'pineapple cake',\n",
       "  'quanity': 5,\n",
       "  'price': 150,\n",
       "  'expirydate': '6monthafter',\n",
       "  'productof': 'Creamcrust'},\n",
       " 10020: {'productname': 'Lassi',\n",
       "  'quanity': 20,\n",
       "  'price': 15,\n",
       "  'expirydate': '5monthafter',\n",
       "  'productof': 'Amul'},\n",
       " 10021: {'productname': 'coconut milk',\n",
       "  'quanity': 20,\n",
       "  'price': 10,\n",
       "  'expirydate': '9monthafter',\n",
       "  'productof': 'maheshCo.'},\n",
       " 10022: {'productname': 'RedBull',\n",
       "  'quanity': 25,\n",
       "  'price': 60,\n",
       "  'expirydate': '12monthafter',\n",
       "  'productof': 'beveragesandco'},\n",
       " 10023: {'productname': 'sting',\n",
       "  'quanity': 15,\n",
       "  'price': 45,\n",
       "  'expirydate': '8monthafter',\n",
       "  'productof': 'sting energy'},\n",
       " 10024: {'productname': 'soda',\n",
       "  'quanity': 50,\n",
       "  'price': 10,\n",
       "  'expirydate': '12monthafter',\n",
       "  'productof': 'cocacola'},\n",
       " 10025: {'productname': 'sprite',\n",
       "  'quanity': 50,\n",
       "  'price': 40,\n",
       "  'expirydate': '12monthafter',\n",
       "  'productof': 'cocacola'},\n",
       " 10026: {'productname': 'fanta',\n",
       "  'quanity': 20,\n",
       "  'price': 40,\n",
       "  'expirydate': '12monthafter',\n",
       "  'productof': 'cocacola'},\n",
       " 10027: {'productname': 'Pepsi',\n",
       "  'quanity': 10,\n",
       "  'price': 30,\n",
       "  'expirydate': '12monthafter',\n",
       "  'productof': 'PepsiandCo'},\n",
       " 10028: {'productname': 'Limca',\n",
       "  'quanity': 20,\n",
       "  'price': 45,\n",
       "  'expirydate': '12monthafter',\n",
       "  'productof': 'cocacola'},\n",
       " 10029: {'productname': 'Thumbsup',\n",
       "  'quanity': 30,\n",
       "  'price': 40,\n",
       "  'expirydate': '12monthafter',\n",
       "  'productof': 'cocacola'},\n",
       " 10030: {'productname': 'lemonade',\n",
       "  'quanity': 20,\n",
       "  'price': 35,\n",
       "  'expirydate': '6monthafter',\n",
       "  'productof': 'minutemaid'}}"
      ]
     },
     "execution_count": 2,
     "metadata": {},
     "output_type": "execute_result"
    }
   ],
   "source": [
    "record"
   ]
  },
  {
   "cell_type": "code",
   "execution_count": 3,
   "id": "199d7f0a",
   "metadata": {},
   "outputs": [],
   "source": [
    "import json"
   ]
  },
  {
   "cell_type": "code",
   "execution_count": 4,
   "id": "fdace4c2",
   "metadata": {
    "scrolled": true
   },
   "outputs": [
    {
     "data": {
      "text/plain": [
       "'{\"10001\": {\"productname\": \"kitkat\", \"quanity\": 20, \"price\": 10, \"expirydate\": \"6monthafter\", \"productof\": \"Nestle\"}, \"10002\": {\"productname\": \"perk\", \"quanity\": 15, \"price\": 10, \"expirydate\": \"6monthafter\", \"productof\": \"Cadbury\"}, \"10003\": {\"productname\": \"Dairymilk\", \"quanity\": 50, \"price\": 5, \"expirydate\": \"12monthafter\", \"productof\": \"Cadbury\"}, \"10004\": {\"productname\": \"Snickers\", \"quanity\": 20, \"price\": 25, \"expirydate\": \"4monthafter\", \"productof\": \"Hersheys\"}, \"10005\": {\"productname\": \"Layschilly\", \"quanity\": 80, \"price\": 20, \"expirydate\": \"6monthafter\", \"productof\": \"Lays\"}, \"10006\": {\"productname\": \"Sweet potato Wafers\", \"quanity\": 50, \"price\": 10, \"expirydate\": \"12monthafter\", \"productof\": \"Balaji\"}, \"10007\": {\"productname\": \"M&Ms\", \"quanity\": 30, \"price\": 20, \"expirydate\": \"6monthafter\", \"productof\": \"Hersheys\"}, \"10008\": {\"productname\": \"Kurkure\", \"quanity\": 50, \"price\": 5, \"expirydate\": \"12monthafter\", \"productof\": \"Kurkure\"}, \"10009\": {\"productname\": \"Chocospread\", \"quanity\": 40, \"price\": 80, \"expirydate\": \"12monthafter\", \"productof\": \"Pillsbury\"}, \"10010\": {\"productname\": \"Rumbles\", \"quanity\": 30, \"price\": 10, \"expirydate\": \"12monthafter\", \"productof\": \"Balaji\"}, \"10011\": {\"productname\": \"moongdal\", \"quanity\": 20, \"price\": 5, \"expirydate\": \"6monthafter\", \"productof\": \"Balaji\"}, \"10012\": {\"productname\": \"buttermilk\", \"quanity\": 50, \"price\": 15, \"expirydate\": \"24hoursafter\", \"productof\": \"Sumul\"}, \"10013\": {\"productname\": \"Curd\", \"quanity\": 50, \"price\": 20, \"expirydate\": \"2monthsafter\", \"productof\": \"Sumul\"}, \"10014\": {\"productname\": \"Pulse\", \"quanity\": 150, \"price\": 1, \"expirydate\": \"12monthafter\", \"productof\": \"mills\"}, \"10015\": {\"productname\": \"5star\", \"quanity\": 50, \"price\": 10, \"expirydate\": \"12monthafter\", \"productof\": \"Cadbury\"}, \"10016\": {\"productname\": \"Munch\", \"quanity\": 25, \"price\": 5, \"expirydate\": \"6monthafter\", \"productof\": \"Cadbury\"}, \"10017\": {\"productname\": \"Darkchoclate\", \"quanity\": 20, \"price\": 70, \"expirydate\": \"6monthafter\", \"productof\": \"Amul\"}, \"10018\": {\"productname\": \"chocochips\", \"quanity\": 30, \"price\": 45, \"expirydate\": \"8monthafter\", \"productof\": \"Havmor\"}, \"10019\": {\"productname\": \"pineapple cake\", \"quanity\": 5, \"price\": 150, \"expirydate\": \"6monthafter\", \"productof\": \"Creamcrust\"}, \"10020\": {\"productname\": \"Lassi\", \"quanity\": 20, \"price\": 15, \"expirydate\": \"5monthafter\", \"productof\": \"Amul\"}, \"10021\": {\"productname\": \"coconut milk\", \"quanity\": 20, \"price\": 10, \"expirydate\": \"9monthafter\", \"productof\": \"maheshCo.\"}, \"10022\": {\"productname\": \"RedBull\", \"quanity\": 25, \"price\": 60, \"expirydate\": \"12monthafter\", \"productof\": \"beveragesandco\"}, \"10023\": {\"productname\": \"sting\", \"quanity\": 15, \"price\": 45, \"expirydate\": \"8monthafter\", \"productof\": \"sting energy\"}, \"10024\": {\"productname\": \"soda\", \"quanity\": 50, \"price\": 10, \"expirydate\": \"12monthafter\", \"productof\": \"cocacola\"}, \"10025\": {\"productname\": \"sprite\", \"quanity\": 50, \"price\": 40, \"expirydate\": \"12monthafter\", \"productof\": \"cocacola\"}, \"10026\": {\"productname\": \"fanta\", \"quanity\": 20, \"price\": 40, \"expirydate\": \"12monthafter\", \"productof\": \"cocacola\"}, \"10027\": {\"productname\": \"Pepsi\", \"quanity\": 10, \"price\": 30, \"expirydate\": \"12monthafter\", \"productof\": \"PepsiandCo\"}, \"10028\": {\"productname\": \"Limca\", \"quanity\": 20, \"price\": 45, \"expirydate\": \"12monthafter\", \"productof\": \"cocacola\"}, \"10029\": {\"productname\": \"Thumbsup\", \"quanity\": 30, \"price\": 40, \"expirydate\": \"12monthafter\", \"productof\": \"cocacola\"}, \"10030\": {\"productname\": \"lemonade\", \"quanity\": 20, \"price\": 35, \"expirydate\": \"6monthafter\", \"productof\": \"minutemaid\"}}'"
      ]
     },
     "execution_count": 4,
     "metadata": {},
     "output_type": "execute_result"
    }
   ],
   "source": [
    "json.dumps(record)"
   ]
  },
  {
   "cell_type": "markdown",
   "id": "46ee0163",
   "metadata": {},
   "source": [
    "# Billing"
   ]
  },
  {
   "cell_type": "markdown",
   "id": "8863d836",
   "metadata": {},
   "source": [
    "## Billing process"
   ]
  },
  {
   "cell_type": "code",
   "execution_count": 5,
   "id": "fe457639",
   "metadata": {},
   "outputs": [
    {
     "data": {
      "text/plain": [
       "dict_keys([10001, 10002, 10003, 10004, 10005, 10006, 10007, 10008, 10009, 10010, 10011, 10012, 10013, 10014, 10015, 10016, 10017, 10018, 10019, 10020, 10021, 10022, 10023, 10024, 10025, 10026, 10027, 10028, 10029, 10030])"
      ]
     },
     "execution_count": 5,
     "metadata": {},
     "output_type": "execute_result"
    }
   ],
   "source": [
    "dict.keys(record)"
   ]
  },
  {
   "cell_type": "code",
   "execution_count": 6,
   "id": "a29f0c1f",
   "metadata": {},
   "outputs": [],
   "source": [
    "lst = []\n",
    "for i in dict.keys(record):\n",
    "        lst.append(i)"
   ]
  },
  {
   "cell_type": "code",
   "execution_count": 7,
   "id": "6873055d",
   "metadata": {},
   "outputs": [
    {
     "data": {
      "text/plain": [
       "[10001,\n",
       " 10002,\n",
       " 10003,\n",
       " 10004,\n",
       " 10005,\n",
       " 10006,\n",
       " 10007,\n",
       " 10008,\n",
       " 10009,\n",
       " 10010,\n",
       " 10011,\n",
       " 10012,\n",
       " 10013,\n",
       " 10014,\n",
       " 10015,\n",
       " 10016,\n",
       " 10017,\n",
       " 10018,\n",
       " 10019,\n",
       " 10020,\n",
       " 10021,\n",
       " 10022,\n",
       " 10023,\n",
       " 10024,\n",
       " 10025,\n",
       " 10026,\n",
       " 10027,\n",
       " 10028,\n",
       " 10029,\n",
       " 10030]"
      ]
     },
     "execution_count": 7,
     "metadata": {},
     "output_type": "execute_result"
    }
   ],
   "source": [
    "lst"
   ]
  },
  {
   "cell_type": "code",
   "execution_count": 8,
   "id": "71a1d4e6",
   "metadata": {},
   "outputs": [],
   "source": [
    "import time"
   ]
  },
  {
   "cell_type": "code",
   "execution_count": 13,
   "id": "c8d26901",
   "metadata": {},
   "outputs": [
    {
     "name": "stdout",
     "output_type": "stream",
     "text": [
      "Enter the product id that you wanna add into cart10001\n",
      "Enter the no of quantity you wanna add2\n",
      "//////////////// Welcome to Adarsh Parlour/////////////\n",
      "\n",
      "\n",
      "You added kitkat in you cart \n",
      "\n",
      "...............The Billing amount is.........\n",
      "The amount is  20\n",
      "Its Product of Nestle\n",
      "Alert!! It expires on 6monthafter\n",
      "Time of purchase-\n",
      "Sat Sep  4 20:43:22 2021\n",
      "Thanks For purchasing from our Store , Visit Again !!!!\n",
      "16\n"
     ]
    }
   ],
   "source": [
    "productID= int(input(\"Enter the product id that you wanna add into cart\"))\n",
    "Quantity= input(\"Enter the no of quantity you wanna add\")\n",
    "\n",
    "for i in range(30):\n",
    "    if(lst[i] == int(productID)):\n",
    "        print(\"//////////////// Welcome to Adarsh Parlour/////////////\")\n",
    "        print(\"\\n\")\n",
    "        print(\"You added \"+record[productID][\"productname\"]+\" in you cart \\n\")\n",
    "        amount=record[productID][\"price\"] * int(Quantity)\n",
    "        print(\"...............The Billing amount is.........\")\n",
    "        print(\"The amount is \",amount)\n",
    "        print(\"Its Product of \"+ record[productID][\"productof\"])\n",
    "        print(\"Alert!! It expires on \"+record[productID][\"expirydate\"])\n",
    "        print(\"Time of purchase-\")\n",
    "        top=time.ctime()\n",
    "        print(top)\n",
    "        print(\"Thanks For purchasing from our Store , Visit Again !!!!\")\n",
    "        k=record[productID][\"quanity\"]\n",
    "        k=int(k)-int(Quantity)\n",
    "        record[productID][\"quanity\"]=k\n",
    "        print(k)\n",
    "        break\n",
    "    else:\n",
    "        continue\n",
    "   "
   ]
  },
  {
   "cell_type": "code",
   "execution_count": 10,
   "id": "54f68c5a",
   "metadata": {},
   "outputs": [
    {
     "data": {
      "text/plain": [
       "str"
      ]
     },
     "execution_count": 10,
     "metadata": {},
     "output_type": "execute_result"
    }
   ],
   "source": [
    "type(record[productID][\"quanity\"])\n",
    "type(Quantity)"
   ]
  },
  {
   "cell_type": "code",
   "execution_count": 11,
   "id": "a8c3ade7",
   "metadata": {},
   "outputs": [
    {
     "name": "stdout",
     "output_type": "stream",
     "text": [
      "18\n"
     ]
    }
   ],
   "source": [
    "print(record[int(productID)][\"quanity\"])"
   ]
  },
  {
   "cell_type": "raw",
   "id": "f9d83305",
   "metadata": {},
   "source": [
    "inv = open(\"Data-record.json\",\"w\")\n",
    "inv.write(record)\n",
    "inv.close()"
   ]
  },
  {
   "cell_type": "code",
   "execution_count": 12,
   "id": "a9bb2471",
   "metadata": {},
   "outputs": [
    {
     "data": {
      "text/plain": [
       "{10001: {'productname': 'kitkat',\n",
       "  'quanity': 18,\n",
       "  'price': 10,\n",
       "  'expirydate': '6monthafter',\n",
       "  'productof': 'Nestle'},\n",
       " 10002: {'productname': 'perk',\n",
       "  'quanity': 15,\n",
       "  'price': 10,\n",
       "  'expirydate': '6monthafter',\n",
       "  'productof': 'Cadbury'},\n",
       " 10003: {'productname': 'Dairymilk',\n",
       "  'quanity': 50,\n",
       "  'price': 5,\n",
       "  'expirydate': '12monthafter',\n",
       "  'productof': 'Cadbury'},\n",
       " 10004: {'productname': 'Snickers',\n",
       "  'quanity': 20,\n",
       "  'price': 25,\n",
       "  'expirydate': '4monthafter',\n",
       "  'productof': 'Hersheys'},\n",
       " 10005: {'productname': 'Layschilly',\n",
       "  'quanity': 80,\n",
       "  'price': 20,\n",
       "  'expirydate': '6monthafter',\n",
       "  'productof': 'Lays'},\n",
       " 10006: {'productname': 'Sweet potato Wafers',\n",
       "  'quanity': 50,\n",
       "  'price': 10,\n",
       "  'expirydate': '12monthafter',\n",
       "  'productof': 'Balaji'},\n",
       " 10007: {'productname': 'M&Ms',\n",
       "  'quanity': 30,\n",
       "  'price': 20,\n",
       "  'expirydate': '6monthafter',\n",
       "  'productof': 'Hersheys'},\n",
       " 10008: {'productname': 'Kurkure',\n",
       "  'quanity': 50,\n",
       "  'price': 5,\n",
       "  'expirydate': '12monthafter',\n",
       "  'productof': 'Kurkure'},\n",
       " 10009: {'productname': 'Chocospread',\n",
       "  'quanity': 40,\n",
       "  'price': 80,\n",
       "  'expirydate': '12monthafter',\n",
       "  'productof': 'Pillsbury'},\n",
       " 10010: {'productname': 'Rumbles',\n",
       "  'quanity': 30,\n",
       "  'price': 10,\n",
       "  'expirydate': '12monthafter',\n",
       "  'productof': 'Balaji'},\n",
       " 10011: {'productname': 'moongdal',\n",
       "  'quanity': 20,\n",
       "  'price': 5,\n",
       "  'expirydate': '6monthafter',\n",
       "  'productof': 'Balaji'},\n",
       " 10012: {'productname': 'buttermilk',\n",
       "  'quanity': 50,\n",
       "  'price': 15,\n",
       "  'expirydate': '24hoursafter',\n",
       "  'productof': 'Sumul'},\n",
       " 10013: {'productname': 'Curd',\n",
       "  'quanity': 50,\n",
       "  'price': 20,\n",
       "  'expirydate': '2monthsafter',\n",
       "  'productof': 'Sumul'},\n",
       " 10014: {'productname': 'Pulse',\n",
       "  'quanity': 150,\n",
       "  'price': 1,\n",
       "  'expirydate': '12monthafter',\n",
       "  'productof': 'mills'},\n",
       " 10015: {'productname': '5star',\n",
       "  'quanity': 50,\n",
       "  'price': 10,\n",
       "  'expirydate': '12monthafter',\n",
       "  'productof': 'Cadbury'},\n",
       " 10016: {'productname': 'Munch',\n",
       "  'quanity': 25,\n",
       "  'price': 5,\n",
       "  'expirydate': '6monthafter',\n",
       "  'productof': 'Cadbury'},\n",
       " 10017: {'productname': 'Darkchoclate',\n",
       "  'quanity': 20,\n",
       "  'price': 70,\n",
       "  'expirydate': '6monthafter',\n",
       "  'productof': 'Amul'},\n",
       " 10018: {'productname': 'chocochips',\n",
       "  'quanity': 30,\n",
       "  'price': 45,\n",
       "  'expirydate': '8monthafter',\n",
       "  'productof': 'Havmor'},\n",
       " 10019: {'productname': 'pineapple cake',\n",
       "  'quanity': 5,\n",
       "  'price': 150,\n",
       "  'expirydate': '6monthafter',\n",
       "  'productof': 'Creamcrust'},\n",
       " 10020: {'productname': 'Lassi',\n",
       "  'quanity': 20,\n",
       "  'price': 15,\n",
       "  'expirydate': '5monthafter',\n",
       "  'productof': 'Amul'},\n",
       " 10021: {'productname': 'coconut milk',\n",
       "  'quanity': 20,\n",
       "  'price': 10,\n",
       "  'expirydate': '9monthafter',\n",
       "  'productof': 'maheshCo.'},\n",
       " 10022: {'productname': 'RedBull',\n",
       "  'quanity': 25,\n",
       "  'price': 60,\n",
       "  'expirydate': '12monthafter',\n",
       "  'productof': 'beveragesandco'},\n",
       " 10023: {'productname': 'sting',\n",
       "  'quanity': 15,\n",
       "  'price': 45,\n",
       "  'expirydate': '8monthafter',\n",
       "  'productof': 'sting energy'},\n",
       " 10024: {'productname': 'soda',\n",
       "  'quanity': 50,\n",
       "  'price': 10,\n",
       "  'expirydate': '12monthafter',\n",
       "  'productof': 'cocacola'},\n",
       " 10025: {'productname': 'sprite',\n",
       "  'quanity': 50,\n",
       "  'price': 40,\n",
       "  'expirydate': '12monthafter',\n",
       "  'productof': 'cocacola'},\n",
       " 10026: {'productname': 'fanta',\n",
       "  'quanity': 20,\n",
       "  'price': 40,\n",
       "  'expirydate': '12monthafter',\n",
       "  'productof': 'cocacola'},\n",
       " 10027: {'productname': 'Pepsi',\n",
       "  'quanity': 10,\n",
       "  'price': 30,\n",
       "  'expirydate': '12monthafter',\n",
       "  'productof': 'PepsiandCo'},\n",
       " 10028: {'productname': 'Limca',\n",
       "  'quanity': 20,\n",
       "  'price': 45,\n",
       "  'expirydate': '12monthafter',\n",
       "  'productof': 'cocacola'},\n",
       " 10029: {'productname': 'Thumbsup',\n",
       "  'quanity': 30,\n",
       "  'price': 40,\n",
       "  'expirydate': '12monthafter',\n",
       "  'productof': 'cocacola'},\n",
       " 10030: {'productname': 'lemonade',\n",
       "  'quanity': 20,\n",
       "  'price': 35,\n",
       "  'expirydate': '6monthafter',\n",
       "  'productof': 'minutemaid'}}"
      ]
     },
     "execution_count": 12,
     "metadata": {},
     "output_type": "execute_result"
    }
   ],
   "source": [
    "record"
   ]
  },
  {
   "cell_type": "markdown",
   "id": "c69111d4",
   "metadata": {},
   "source": [
    "### The list is Updated Succesfully"
   ]
  },
  {
   "cell_type": "markdown",
   "id": "41ebd5b7",
   "metadata": {},
   "source": [
    "## Sales Report \n"
   ]
  },
  {
   "cell_type": "code",
   "execution_count": 20,
   "id": "d7fa9598",
   "metadata": {},
   "outputs": [],
   "source": [
    "sal={\"Product_Id\":productID,\n",
    "     \"NamesofProduct\":record[productID][\"productname\"],\n",
    "     \"purchasedamount\":amount,\n",
    "     \"Timeofpurchase\":top}"
   ]
  },
  {
   "cell_type": "code",
   "execution_count": 21,
   "id": "6b2f5b66",
   "metadata": {},
   "outputs": [
    {
     "name": "stdout",
     "output_type": "stream",
     "text": [
      "{'Product_Id': 10001, 'NamesofProduct': 'kitkat', 'purchasedamount': 20, 'Timeofpurchase': 'Sat Sep  4 20:43:22 2021'}\n"
     ]
    }
   ],
   "source": [
    "print(sal)"
   ]
  },
  {
   "cell_type": "code",
   "execution_count": 26,
   "id": "eacff919",
   "metadata": {},
   "outputs": [],
   "source": [
    "salary =json.dumps(sal)"
   ]
  },
  {
   "cell_type": "code",
   "execution_count": 30,
   "id": "389f0efb",
   "metadata": {},
   "outputs": [
    {
     "data": {
      "text/plain": [
       "str"
      ]
     },
     "execution_count": 30,
     "metadata": {},
     "output_type": "execute_result"
    }
   ],
   "source": [
    "type(salary)"
   ]
  },
  {
   "cell_type": "code",
   "execution_count": 38,
   "id": "785ee217",
   "metadata": {},
   "outputs": [],
   "source": [
    "slry = open(\"salary.txt\",\"a\")\n",
    "slry.write(salary)\n",
    "slry.close()"
   ]
  },
  {
   "cell_type": "markdown",
   "id": "3c52b922",
   "metadata": {},
   "source": [
    "### Sales is completed and appended also"
   ]
  },
  {
   "cell_type": "code",
   "execution_count": null,
   "id": "5c1842df",
   "metadata": {},
   "outputs": [],
   "source": []
  }
 ],
 "metadata": {
  "kernelspec": {
   "display_name": "Python 3",
   "language": "python",
   "name": "python3"
  },
  "language_info": {
   "codemirror_mode": {
    "name": "ipython",
    "version": 3
   },
   "file_extension": ".py",
   "mimetype": "text/x-python",
   "name": "python",
   "nbconvert_exporter": "python",
   "pygments_lexer": "ipython3",
   "version": "3.8.8"
  }
 },
 "nbformat": 4,
 "nbformat_minor": 5
}
